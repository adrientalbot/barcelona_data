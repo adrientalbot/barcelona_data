{
 "cells": [
  {
   "cell_type": "code",
   "execution_count": 1,
   "metadata": {},
   "outputs": [],
   "source": [
    "import pandas as pd"
   ]
  },
  {
   "cell_type": "code",
   "execution_count": 2,
   "metadata": {},
   "outputs": [],
   "source": [
    "data_2017 = pd.read_csv('2017_ll2017.csv')"
   ]
  },
  {
   "cell_type": "code",
   "execution_count": 3,
   "metadata": {},
   "outputs": [
    {
     "name": "stdout",
     "output_type": "stream",
     "text": [
      "<class 'pandas.core.frame.DataFrame'>\n",
      "RangeIndex: 74 entries, 0 to 73\n",
      "Data columns (total 10 columns):\n",
      "Dte.                      74 non-null object\n",
      "Barris                    73 non-null object\n",
      "1r Trimestre              74 non-null object\n",
      "2n Trimestre              74 non-null object\n",
      "3r Trimestre              74 non-null object\n",
      "4rt Trimestre             74 non-null object\n",
      "Acumulat/1r Trimestre     74 non-null object\n",
      "Acumulat/2n Trimestre     74 non-null object\n",
      "Acumulat/3r Trimestre     74 non-null object\n",
      "Acumulat/4rt Trimestre    74 non-null object\n",
      "dtypes: object(10)\n",
      "memory usage: 5.9+ KB\n"
     ]
    }
   ],
   "source": [
    "data_2017.info()"
   ]
  },
  {
   "cell_type": "code",
   "execution_count": 4,
   "metadata": {},
   "outputs": [
    {
     "data": {
      "text/html": [
       "<div>\n",
       "<style scoped>\n",
       "    .dataframe tbody tr th:only-of-type {\n",
       "        vertical-align: middle;\n",
       "    }\n",
       "\n",
       "    .dataframe tbody tr th {\n",
       "        vertical-align: top;\n",
       "    }\n",
       "\n",
       "    .dataframe thead th {\n",
       "        text-align: right;\n",
       "    }\n",
       "</style>\n",
       "<table border=\"1\" class=\"dataframe\">\n",
       "  <thead>\n",
       "    <tr style=\"text-align: right;\">\n",
       "      <th></th>\n",
       "      <th>Dte.</th>\n",
       "      <th>Barris</th>\n",
       "      <th>1r Trimestre</th>\n",
       "      <th>2n Trimestre</th>\n",
       "      <th>3r Trimestre</th>\n",
       "      <th>4rt Trimestre</th>\n",
       "      <th>Acumulat/1r Trimestre</th>\n",
       "      <th>Acumulat/2n Trimestre</th>\n",
       "      <th>Acumulat/3r Trimestre</th>\n",
       "      <th>Acumulat/4rt Trimestre</th>\n",
       "    </tr>\n",
       "  </thead>\n",
       "  <tbody>\n",
       "    <tr>\n",
       "      <th>0</th>\n",
       "      <td>BARCELONA</td>\n",
       "      <td>NaN</td>\n",
       "      <td>845.15</td>\n",
       "      <td>864.98</td>\n",
       "      <td>903.40</td>\n",
       "      <td>889.58</td>\n",
       "      <td>845.15</td>\n",
       "      <td>855.46</td>\n",
       "      <td>872.57</td>\n",
       "      <td>877.28</td>\n",
       "    </tr>\n",
       "    <tr>\n",
       "      <th>1</th>\n",
       "      <td>1</td>\n",
       "      <td>1. el Raval</td>\n",
       "      <td>734.99</td>\n",
       "      <td>714.29</td>\n",
       "      <td>764.85</td>\n",
       "      <td>776.73</td>\n",
       "      <td>734.99</td>\n",
       "      <td>724.60</td>\n",
       "      <td>737.93</td>\n",
       "      <td>748.58</td>\n",
       "    </tr>\n",
       "    <tr>\n",
       "      <th>2</th>\n",
       "      <td>1</td>\n",
       "      <td>2. el Barri Gòtic</td>\n",
       "      <td>905.26</td>\n",
       "      <td>968.16</td>\n",
       "      <td>1028.49</td>\n",
       "      <td>993.16</td>\n",
       "      <td>905.26</td>\n",
       "      <td>936.40</td>\n",
       "      <td>966.06</td>\n",
       "      <td>973.27</td>\n",
       "    </tr>\n",
       "    <tr>\n",
       "      <th>3</th>\n",
       "      <td>1</td>\n",
       "      <td>3. la Barceloneta</td>\n",
       "      <td>722.78</td>\n",
       "      <td>738.25</td>\n",
       "      <td>758.18</td>\n",
       "      <td>766.03</td>\n",
       "      <td>722.78</td>\n",
       "      <td>730.86</td>\n",
       "      <td>739.29</td>\n",
       "      <td>745.81</td>\n",
       "    </tr>\n",
       "    <tr>\n",
       "      <th>4</th>\n",
       "      <td>1</td>\n",
       "      <td>4. Sant Pere, Santa Caterina i la Ribera</td>\n",
       "      <td>895.28</td>\n",
       "      <td>930.13</td>\n",
       "      <td>927.16</td>\n",
       "      <td>914.78</td>\n",
       "      <td>895.28</td>\n",
       "      <td>912.84</td>\n",
       "      <td>917.40</td>\n",
       "      <td>916.65</td>\n",
       "    </tr>\n",
       "  </tbody>\n",
       "</table>\n",
       "</div>"
      ],
      "text/plain": [
       "        Dte.                                    Barris 1r Trimestre  \\\n",
       "0  BARCELONA                                       NaN       845.15   \n",
       "1          1                               1. el Raval       734.99   \n",
       "2          1                         2. el Barri Gòtic       905.26   \n",
       "3          1                         3. la Barceloneta       722.78   \n",
       "4          1  4. Sant Pere, Santa Caterina i la Ribera       895.28   \n",
       "\n",
       "  2n Trimestre 3r Trimestre 4rt Trimestre Acumulat/1r Trimestre  \\\n",
       "0       864.98       903.40        889.58                845.15   \n",
       "1       714.29       764.85        776.73                734.99   \n",
       "2       968.16      1028.49        993.16                905.26   \n",
       "3       738.25       758.18        766.03                722.78   \n",
       "4       930.13       927.16        914.78                895.28   \n",
       "\n",
       "  Acumulat/2n Trimestre Acumulat/3r Trimestre Acumulat/4rt Trimestre  \n",
       "0                855.46                872.57                 877.28  \n",
       "1                724.60                737.93                 748.58  \n",
       "2                936.40                966.06                 973.27  \n",
       "3                730.86                739.29                 745.81  \n",
       "4                912.84                917.40                 916.65  "
      ]
     },
     "execution_count": 4,
     "metadata": {},
     "output_type": "execute_result"
    }
   ],
   "source": [
    "data_2017.head()"
   ]
  },
  {
   "cell_type": "code",
   "execution_count": 6,
   "metadata": {},
   "outputs": [
    {
     "data": {
      "text/plain": [
       "Index(['Dte.', 'Barris', '1r Trimestre', '2n Trimestre', '3r Trimestre',\n",
       "       '4rt Trimestre', 'Acumulat/1r Trimestre', 'Acumulat/2n Trimestre',\n",
       "       'Acumulat/3r Trimestre', 'Acumulat/4rt Trimestre'],\n",
       "      dtype='object')"
      ]
     },
     "execution_count": 6,
     "metadata": {},
     "output_type": "execute_result"
    }
   ],
   "source": [
    "data_2017.columns"
   ]
  },
  {
   "cell_type": "code",
   "execution_count": 9,
   "metadata": {},
   "outputs": [],
   "source": [
    "data_2017.drop(columns = {'Barris', '1r Trimestre','2n Trimestre', '3r Trimestre', \n",
    "                          '4rt Trimestre' , 'Acumulat/1r Trimestre' , 'Acumulat/2n Trimestre', \n",
    "                          'Acumulat/3r Trimestre' }, inplace = True)"
   ]
  },
  {
   "cell_type": "code",
   "execution_count": 11,
   "metadata": {},
   "outputs": [
    {
     "data": {
      "text/html": [
       "<div>\n",
       "<style scoped>\n",
       "    .dataframe tbody tr th:only-of-type {\n",
       "        vertical-align: middle;\n",
       "    }\n",
       "\n",
       "    .dataframe tbody tr th {\n",
       "        vertical-align: top;\n",
       "    }\n",
       "\n",
       "    .dataframe thead th {\n",
       "        text-align: right;\n",
       "    }\n",
       "</style>\n",
       "<table border=\"1\" class=\"dataframe\">\n",
       "  <thead>\n",
       "    <tr style=\"text-align: right;\">\n",
       "      <th></th>\n",
       "      <th>Dte.</th>\n",
       "      <th>Acumulat/4rt Trimestre</th>\n",
       "    </tr>\n",
       "  </thead>\n",
       "  <tbody>\n",
       "    <tr>\n",
       "      <th>0</th>\n",
       "      <td>BARCELONA</td>\n",
       "      <td>877.28</td>\n",
       "    </tr>\n",
       "    <tr>\n",
       "      <th>1</th>\n",
       "      <td>1</td>\n",
       "      <td>748.58</td>\n",
       "    </tr>\n",
       "    <tr>\n",
       "      <th>2</th>\n",
       "      <td>1</td>\n",
       "      <td>973.27</td>\n",
       "    </tr>\n",
       "    <tr>\n",
       "      <th>3</th>\n",
       "      <td>1</td>\n",
       "      <td>745.81</td>\n",
       "    </tr>\n",
       "    <tr>\n",
       "      <th>4</th>\n",
       "      <td>1</td>\n",
       "      <td>916.65</td>\n",
       "    </tr>\n",
       "  </tbody>\n",
       "</table>\n",
       "</div>"
      ],
      "text/plain": [
       "        Dte. Acumulat/4rt Trimestre\n",
       "0  BARCELONA                 877.28\n",
       "1          1                 748.58\n",
       "2          1                 973.27\n",
       "3          1                 745.81\n",
       "4          1                 916.65"
      ]
     },
     "execution_count": 11,
     "metadata": {},
     "output_type": "execute_result"
    }
   ],
   "source": [
    "data_2017.head()"
   ]
  },
  {
   "cell_type": "code",
   "execution_count": 12,
   "metadata": {},
   "outputs": [],
   "source": [
    "data_2017.drop({0}, inplace = True)"
   ]
  },
  {
   "cell_type": "code",
   "execution_count": 24,
   "metadata": {},
   "outputs": [
    {
     "data": {
      "text/html": [
       "<div>\n",
       "<style scoped>\n",
       "    .dataframe tbody tr th:only-of-type {\n",
       "        vertical-align: middle;\n",
       "    }\n",
       "\n",
       "    .dataframe tbody tr th {\n",
       "        vertical-align: top;\n",
       "    }\n",
       "\n",
       "    .dataframe thead th {\n",
       "        text-align: right;\n",
       "    }\n",
       "</style>\n",
       "<table border=\"1\" class=\"dataframe\">\n",
       "  <thead>\n",
       "    <tr style=\"text-align: right;\">\n",
       "      <th></th>\n",
       "      <th>Dte.</th>\n",
       "      <th>Acumulat/4rt Trimestre</th>\n",
       "    </tr>\n",
       "  </thead>\n",
       "  <tbody>\n",
       "    <tr>\n",
       "      <th>1</th>\n",
       "      <td>1</td>\n",
       "      <td>748.58</td>\n",
       "    </tr>\n",
       "    <tr>\n",
       "      <th>2</th>\n",
       "      <td>1</td>\n",
       "      <td>973.27</td>\n",
       "    </tr>\n",
       "    <tr>\n",
       "      <th>3</th>\n",
       "      <td>1</td>\n",
       "      <td>745.81</td>\n",
       "    </tr>\n",
       "    <tr>\n",
       "      <th>4</th>\n",
       "      <td>1</td>\n",
       "      <td>916.65</td>\n",
       "    </tr>\n",
       "    <tr>\n",
       "      <th>5</th>\n",
       "      <td>2</td>\n",
       "      <td>900.42</td>\n",
       "    </tr>\n",
       "  </tbody>\n",
       "</table>\n",
       "</div>"
      ],
      "text/plain": [
       "  Dte. Acumulat/4rt Trimestre\n",
       "1    1                 748.58\n",
       "2    1                 973.27\n",
       "3    1                 745.81\n",
       "4    1                 916.65\n",
       "5    2                 900.42"
      ]
     },
     "execution_count": 24,
     "metadata": {},
     "output_type": "execute_result"
    }
   ],
   "source": [
    "data_2017.head()"
   ]
  },
  {
   "cell_type": "code",
   "execution_count": 29,
   "metadata": {},
   "outputs": [],
   "source": [
    "data_2017['Acumulat/4rt Trimestre'] = data_2017['Acumulat/4rt Trimestre'].replace('-', value = None)"
   ]
  },
  {
   "cell_type": "code",
   "execution_count": 30,
   "metadata": {},
   "outputs": [],
   "source": [
    "data_2017['Acumulat/4rt Trimestre'] = data_2017['Acumulat/4rt Trimestre'].astype({'Acumulat/4rt Trimestre' : 'float64'})"
   ]
  },
  {
   "cell_type": "code",
   "execution_count": null,
   "metadata": {},
   "outputs": [],
   "source": []
  },
  {
   "cell_type": "code",
   "execution_count": null,
   "metadata": {},
   "outputs": [],
   "source": []
  },
  {
   "cell_type": "code",
   "execution_count": null,
   "metadata": {},
   "outputs": [],
   "source": []
  },
  {
   "cell_type": "code",
   "execution_count": 15,
   "metadata": {},
   "outputs": [
    {
     "data": {
      "text/html": [
       "<div>\n",
       "<style scoped>\n",
       "    .dataframe tbody tr th:only-of-type {\n",
       "        vertical-align: middle;\n",
       "    }\n",
       "\n",
       "    .dataframe tbody tr th {\n",
       "        vertical-align: top;\n",
       "    }\n",
       "\n",
       "    .dataframe thead th {\n",
       "        text-align: right;\n",
       "    }\n",
       "</style>\n",
       "<table border=\"1\" class=\"dataframe\">\n",
       "  <thead>\n",
       "    <tr style=\"text-align: right;\">\n",
       "      <th></th>\n",
       "      <th>Acumulat/4rt Trimestre</th>\n",
       "    </tr>\n",
       "    <tr>\n",
       "      <th>Dte.</th>\n",
       "      <th></th>\n",
       "    </tr>\n",
       "  </thead>\n",
       "  <tbody>\n",
       "    <tr>\n",
       "      <th>1</th>\n",
       "      <td>748.58973.27745.81916.65</td>\n",
       "    </tr>\n",
       "    <tr>\n",
       "      <th>10</th>\n",
       "      <td>778.14767.51893.671259.70900.221092.06613.0393...</td>\n",
       "    </tr>\n",
       "    <tr>\n",
       "      <th>2</th>\n",
       "      <td>900.42876.251195.231060.03943.23900.48</td>\n",
       "    </tr>\n",
       "    <tr>\n",
       "      <th>3</th>\n",
       "      <td>749.52-691.42811.08747.09789.98759.18787.23</td>\n",
       "    </tr>\n",
       "    <tr>\n",
       "      <th>4</th>\n",
       "      <td>1002.47925.161785.63</td>\n",
       "    </tr>\n",
       "    <tr>\n",
       "      <th>5</th>\n",
       "      <td>1220.001353.861634.121236.681311.47930.19</td>\n",
       "    </tr>\n",
       "    <tr>\n",
       "      <th>6</th>\n",
       "      <td>910.93724.94799.97860.63864.07</td>\n",
       "    </tr>\n",
       "    <tr>\n",
       "      <th>7</th>\n",
       "      <td>770.94686.96736.91817.10603.34648.90674.67724....</td>\n",
       "    </tr>\n",
       "    <tr>\n",
       "      <th>8</th>\n",
       "      <td>714.83662.04615.50417.84650.05680.56533.39591....</td>\n",
       "    </tr>\n",
       "    <tr>\n",
       "      <th>9</th>\n",
       "      <td>497.60458.37627.45733.94667.56730.84777.64</td>\n",
       "    </tr>\n",
       "  </tbody>\n",
       "</table>\n",
       "</div>"
      ],
      "text/plain": [
       "                                 Acumulat/4rt Trimestre\n",
       "Dte.                                                   \n",
       "1                              748.58973.27745.81916.65\n",
       "10    778.14767.51893.671259.70900.221092.06613.0393...\n",
       "2                900.42876.251195.231060.03943.23900.48\n",
       "3           749.52-691.42811.08747.09789.98759.18787.23\n",
       "4                                  1002.47925.161785.63\n",
       "5             1220.001353.861634.121236.681311.47930.19\n",
       "6                        910.93724.94799.97860.63864.07\n",
       "7     770.94686.96736.91817.10603.34648.90674.67724....\n",
       "8     714.83662.04615.50417.84650.05680.56533.39591....\n",
       "9            497.60458.37627.45733.94667.56730.84777.64"
      ]
     },
     "execution_count": 15,
     "metadata": {},
     "output_type": "execute_result"
    }
   ],
   "source": [
    "data_2017.groupby(['Dte.']).sum()"
   ]
  },
  {
   "cell_type": "code",
   "execution_count": null,
   "metadata": {},
   "outputs": [],
   "source": []
  }
 ],
 "metadata": {
  "kernelspec": {
   "display_name": "Python 3",
   "language": "python",
   "name": "python3"
  },
  "language_info": {
   "codemirror_mode": {
    "name": "ipython",
    "version": 3
   },
   "file_extension": ".py",
   "mimetype": "text/x-python",
   "name": "python",
   "nbconvert_exporter": "python",
   "pygments_lexer": "ipython3",
   "version": "3.7.1"
  }
 },
 "nbformat": 4,
 "nbformat_minor": 2
}
